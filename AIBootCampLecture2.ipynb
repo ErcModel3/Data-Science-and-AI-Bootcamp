{
  "nbformat": 4,
  "nbformat_minor": 0,
  "metadata": {
    "colab": {
      "provenance": [],
      "authorship_tag": "ABX9TyPYKk5AhMkRAXPrgsMPZ/qU",
      "include_colab_link": true
    },
    "kernelspec": {
      "name": "python3",
      "display_name": "Python 3"
    },
    "language_info": {
      "name": "python"
    }
  },
  "cells": [
    {
      "cell_type": "markdown",
      "metadata": {
        "id": "view-in-github",
        "colab_type": "text"
      },
      "source": [
        "<a href=\"https://colab.research.google.com/github/ErcModel3/Data-Science-and-AI-Bootcamp/blob/main/AIBootCampLecture2.ipynb\" target=\"_parent\"><img src=\"https://colab.research.google.com/assets/colab-badge.svg\" alt=\"Open In Colab\"/></a>"
      ]
    },
    {
      "cell_type": "code",
      "execution_count": null,
      "metadata": {
        "colab": {
          "base_uri": "https://localhost:8080/"
        },
        "id": "_iQg8jd4o-av",
        "outputId": "b7cf4e75-dea0-4311-ee6d-72ff1c67c6d3"
      },
      "outputs": [
        {
          "output_type": "stream",
          "name": "stdout",
          "text": [
            "Hello World\n"
          ]
        }
      ],
      "source": [
        "print(\"Hello World\")"
      ]
    },
    {
      "cell_type": "code",
      "source": [
        "first_name = \"Alex\"\n",
        "last_name = \"Kirk\"\n",
        "full_name = \"Alex Kirk\"\n",
        "\n",
        "print(first_name[0])\n",
        "print(last_name[1])\n",
        "\n",
        "print(first_name[::-1])\n",
        "print(last_name[::-1])"
      ],
      "metadata": {
        "colab": {
          "base_uri": "https://localhost:8080/"
        },
        "id": "M4MZGpMwv93v",
        "outputId": "ddc23498-9c89-4ba8-c5f6-d6e9db7adce0"
      },
      "execution_count": 8,
      "outputs": [
        {
          "output_type": "stream",
          "name": "stdout",
          "text": [
            "A\n",
            "i\n",
            "xelA\n",
            "kriK\n"
          ]
        }
      ]
    },
    {
      "cell_type": "markdown",
      "source": [
        "Learning on string sequencing based on indexing and learning that array (types) will always start at 0.\n",
        "\n",
        "Additionally, there are lots of more string manipulatioun functions that can provide different uses. An example of this is the reverse string function used in the 3rd region of code."
      ],
      "metadata": {
        "id": "JqPZ7NTMzDeH"
      }
    },
    {
      "cell_type": "code",
      "source": [
        "print(full_name)\n",
        "print(full_name[0:4])\n",
        "print(full_name[5:9])"
      ],
      "metadata": {
        "colab": {
          "base_uri": "https://localhost:8080/"
        },
        "id": "5iwsVVqf0BU_",
        "outputId": "6731078d-a656-42e7-f114-2ae463cc3736"
      },
      "execution_count": 9,
      "outputs": [
        {
          "output_type": "stream",
          "name": "stdout",
          "text": [
            "Alex Kirk\n",
            "Alex\n",
            "Kirk\n"
          ]
        }
      ]
    },
    {
      "cell_type": "markdown",
      "source": [
        "Further string manipulation can include splitting strings into different 'chunks' to isolate data that you actually want to include. For example I've put my name into a string and split them into my first name and last name then printed in tandem."
      ],
      "metadata": {
        "id": "9nr0NBWV0Dhm"
      }
    },
    {
      "cell_type": "markdown",
      "source": [],
      "metadata": {
        "id": "oqVMVyFw_BfI"
      }
    },
    {
      "cell_type": "code",
      "source": [
        "name2 = full_name[0:4] + \" Waterman\"\n",
        "print(name2)\n",
        "# Please rename variables"
      ],
      "metadata": {
        "colab": {
          "base_uri": "https://localhost:8080/"
        },
        "id": "QO1G8gw12ocf",
        "outputId": "6fac7629-2a02-49be-94e7-4882d065609c"
      },
      "execution_count": 13,
      "outputs": [
        {
          "output_type": "stream",
          "name": "stdout",
          "text": [
            "Alex Waterman\n"
          ]
        }
      ]
    },
    {
      "cell_type": "markdown",
      "source": [
        "Something about splitting and rejoining"
      ],
      "metadata": {
        "id": "H9O3UvSt3O43"
      }
    },
    {
      "cell_type": "code",
      "source": [
        "upper_first_name = first_name.upper()\n",
        "lower_last_name = last_name.lower()\n",
        "\n",
        "print(upper_first_name)\n",
        "print(lower_last_name)\n"
      ],
      "metadata": {
        "colab": {
          "base_uri": "https://localhost:8080/"
        },
        "id": "pdXvcRWb3Zqv",
        "outputId": "76b44f86-a545-498c-9c9f-ffc023fdc978"
      },
      "execution_count": 20,
      "outputs": [
        {
          "output_type": "stream",
          "name": "stdout",
          "text": [
            "ALEX\n",
            "kirk\n"
          ]
        }
      ]
    }
  ]
}